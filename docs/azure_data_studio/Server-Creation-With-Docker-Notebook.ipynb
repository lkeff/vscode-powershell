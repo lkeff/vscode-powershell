{
    "metadata": {
        "kernelspec": {
            "name": "SQL",
            "display_name": "SQL",
            "language": "sql"
        },
        "language_info": {
            "name": "sql",
            "version": ""
        }
    },
    "nbformat_minor": 2,
    "nbformat": 4,
    "cells": [
        {
            "cell_type": "markdown",
            "source": [
                "## Creating a SQL Server in a Linux Container [Using PowerShell]\r\n",
                "\r\n",
                "|Module|Link|\r\n",
                "|------------|---------------------------------------|\r\n",
                "|SqlServer|https://www.powershellgallery.com/packages/SqlServer/|\r\n",
                "|ReportingServicesTools|https://www.powershellgallery.com/packages/ReportingServicesTools/|\r\n",
                "|MicrosoftPowerBIMgmt|https://www.powershellgallery.com/packages/MicrosoftPowerBIMgmt/|\r\n",
                "|SqlServerDsc|https://www.powershellgallery.com/packages/SqlServerDsc/|\r\n",
                "|Az.Sql|https://www.powershellgallery.com/packages/Az.Sql/|\r\n",
                "\r\n",
                "<pre>\r\n",
                "If you don't already have a terminal window open, you need to first: <a href=\"command:workbench.action.terminal.focus\">Open the terminal</a>  \r\n",
                "</pre>\r\n",
                "<pre> \r\n",
                "You probably don't have this directory on your machine, so run this: <a href=\"command:workbench.action.terminal.sendSequence?%7B%22text%22%3A%22mkdir%20C:%2FSQLData%2FDocker%2FSQLDev66%22%7D\">mkdir C:/SQLData/Docker/SQLDev63 </a>\r\n",
                "</pre>\r\n",
                "<pre>\r\n",
                "<a href=\"command:workbench.action.terminal.sendSequence?%7B%22text%22%3A%22Invoke-Expression%20(Invoke-WebRequest%20https:%2F%2Fgist.githubusercontent.com%2FSQLvariant%2F63193826e2352f2a8c1c85f63c724501%2Fraw%2Fd424e4127ceda141cc091aa7cfba7a11e410143e/DockerDesktop-with-SQL-PowerShell-63.ps1)%22%7D\">Spin up a Docker Container with Invoke-Expression (Invoke-WebRequest https://gist.githubusercontent.com/SQLvariant) </a> Just click enter after the command is placed into the terminal. Just click enter after the command is placed into the terminal.  When prompted, the sa password is Test1234, but you can obviously change this.\r\n",
                "</pre>\r\n",
                "<pre> \r\n",
                "View the PowerShell Script with <a href=\"command:workbench.action.terminal.sendSequence?%7B%22text%22%3A%22PSEdit%20C:%2FSQLData%2FDocker-Desktop-with-SQL-PowerShell-63.ps1%22%7D\">PSEdit </a>\r\n",
                "</pre>\r\n",
                ""
            ],
            "metadata": {
                "azdata_cell_guid": "562d0316-90ca-4914-b520-990204f45cb8"
            }
        },
        {
            "cell_type": "code",
            "source": [
                "SELECT name, create_date\r\n",
                "FROM sys.databases"
            ],
            "metadata": {
                "azdata_cell_guid": "d48888a4-8ab4-485f-ba83-61ba51d113e7",
                "language": "sql"
            },
            "outputs": [
                {
                    "output_type": "display_data",
                    "data": {
                        "text/html": "(6 rows affected)"
                    },
                    "metadata": {}
                },
                {
                    "output_type": "display_data",
                    "data": {
                        "text/html": "Total execution time: 00:00:00.349"
                    },
                    "metadata": {}
                },
                {
                    "output_type": "execute_result",
                    "metadata": {},
                    "execution_count": 1,
                    "data": {
                        "application/vnd.dataresource+json": {
                            "schema": {
                                "fields": [
                                    {
                                        "name": "name"
                                    },
                                    {
                                        "name": "create_date"
                                    }
                                ]
                            },
                            "data": [
                                {
                                    "name": "master",
                                    "create_date": "2003-04-08 09:13:36.390"
                                },
                                {
                                    "name": "tempdb",
                                    "create_date": "2024-10-14 08:49:24.077"
                                },
                                {
                                    "name": "model",
                                    "create_date": "2003-04-08 09:13:36.390"
                                },
                                {
                                    "name": "msdb",
                                    "create_date": "2022-10-08 06:31:57.550"
                                },
                                {
                                    "name": "crdplyrs",
                                    "create_date": "2024-10-14 10:11:14.313"
                                },
                                {
                                    "name": "DQS_STAGING_DATA",
                                    "create_date": "2024-10-14 07:44:41.393"
                                }
                            ]
                        },
                        "text/html": [
                            "<table>",
                            "<tr><th>name</th><th>create_date</th></tr>",
                            "<tr><td>master</td><td>2003-04-08 09:13:36.390</td></tr>",
                            "<tr><td>tempdb</td><td>2024-10-14 08:49:24.077</td></tr>",
                            "<tr><td>model</td><td>2003-04-08 09:13:36.390</td></tr>",
                            "<tr><td>msdb</td><td>2022-10-08 06:31:57.550</td></tr>",
                            "<tr><td>crdplyrs</td><td>2024-10-14 10:11:14.313</td></tr>",
                            "<tr><td>DQS_STAGING_DATA</td><td>2024-10-14 07:44:41.393</td></tr>",
                            "</table>"
                        ]
                    }
                }
            ],
            "execution_count": 1
        }
    ]
}